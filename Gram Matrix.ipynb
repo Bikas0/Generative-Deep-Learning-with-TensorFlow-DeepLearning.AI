{
 "cells": [
  {
   "cell_type": "code",
   "execution_count": 1,
   "id": "b30e0aea",
   "metadata": {},
   "outputs": [],
   "source": [
    "import tensorflow as tf"
   ]
  },
  {
   "cell_type": "code",
   "execution_count": 6,
   "id": "6375c715",
   "metadata": {},
   "outputs": [
    {
     "data": {
      "text/plain": [
       "<tf.Tensor: shape=(2, 2, 2), dtype=int32, numpy=\n",
       "array([[[1, 2],\n",
       "        [3, 4]],\n",
       "\n",
       "       [[5, 6],\n",
       "        [7, 8]]])>"
      ]
     },
     "execution_count": 6,
     "metadata": {},
     "output_type": "execute_result"
    }
   ],
   "source": [
    "style_layer = tf.constant([1,2,3,4,5,6,7,8], shape = (2,2,2))\n",
    "style_layer"
   ]
  },
  {
   "cell_type": "code",
   "execution_count": 9,
   "id": "bbda009a",
   "metadata": {},
   "outputs": [
    {
     "data": {
      "text/plain": [
       "<tf.Tensor: shape=(4, 2), dtype=int32, numpy=\n",
       "array([[1, 5],\n",
       "       [2, 6],\n",
       "       [3, 7],\n",
       "       [4, 8]])>"
      ]
     },
     "execution_count": 9,
     "metadata": {},
     "output_type": "execute_result"
    }
   ],
   "source": [
    "A = tf.transpose(tf.reshape(style_layer, shape = (2,4)))\n",
    "A"
   ]
  },
  {
   "cell_type": "code",
   "execution_count": 10,
   "id": "76357d62",
   "metadata": {},
   "outputs": [
    {
     "data": {
      "text/plain": [
       "<tf.Tensor: shape=(2, 4), dtype=int32, numpy=\n",
       "array([[1, 2, 3, 4],\n",
       "       [5, 6, 7, 8]])>"
      ]
     },
     "execution_count": 10,
     "metadata": {},
     "output_type": "execute_result"
    }
   ],
   "source": [
    "AT = tf.transpose(A)\n",
    "AT"
   ]
  },
  {
   "cell_type": "code",
   "execution_count": 11,
   "id": "cfacf6a8",
   "metadata": {},
   "outputs": [
    {
     "data": {
      "text/plain": [
       "<tf.Tensor: shape=(2, 2), dtype=int32, numpy=\n",
       "array([[ 30,  70],\n",
       "       [ 70, 174]])>"
      ]
     },
     "execution_count": 11,
     "metadata": {},
     "output_type": "execute_result"
    }
   ],
   "source": [
    "G = tf.matmul(AT, A)\n",
    "G"
   ]
  },
  {
   "cell_type": "code",
   "execution_count": 20,
   "id": "a1aedf7f",
   "metadata": {},
   "outputs": [
    {
     "data": {
      "text/plain": [
       "<tf.Tensor: shape=(2, 2), dtype=int32, numpy=\n",
       "array([[ 30,  70],\n",
       "       [ 70, 174]])>"
      ]
     },
     "execution_count": 20,
     "metadata": {},
     "output_type": "execute_result"
    }
   ],
   "source": [
    "G = tf.linalg.einsum('ij, jk ->ik', AT, A)\n",
    "G"
   ]
  },
  {
   "cell_type": "code",
   "execution_count": 26,
   "id": "bb205a8d",
   "metadata": {},
   "outputs": [
    {
     "name": "stdout",
     "output_type": "stream",
     "text": [
      "tf.Tensor(344, shape=(), dtype=int32)\n"
     ]
    }
   ],
   "source": [
    "G = tf.linalg.einsum('ij, jk ->', AT, A)\n",
    "print(G)"
   ]
  },
  {
   "cell_type": "code",
   "execution_count": null,
   "id": "7d3d9dbe",
   "metadata": {},
   "outputs": [],
   "source": []
  }
 ],
 "metadata": {
  "kernelspec": {
   "display_name": "Python 3 (ipykernel)",
   "language": "python",
   "name": "python3"
  },
  "language_info": {
   "codemirror_mode": {
    "name": "ipython",
    "version": 3
   },
   "file_extension": ".py",
   "mimetype": "text/x-python",
   "name": "python",
   "nbconvert_exporter": "python",
   "pygments_lexer": "ipython3",
   "version": "3.9.7"
  }
 },
 "nbformat": 4,
 "nbformat_minor": 5
}
